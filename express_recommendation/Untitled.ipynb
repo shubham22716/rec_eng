{
 "cells": [
  {
   "cell_type": "code",
   "execution_count": 1,
   "metadata": {},
   "outputs": [],
   "source": [
    "import pandas as pd\n",
    "import string"
   ]
  },
  {
   "cell_type": "code",
   "execution_count": 2,
   "metadata": {},
   "outputs": [
    {
     "data": {
      "text/html": [
       "<div>\n",
       "<style scoped>\n",
       "    .dataframe tbody tr th:only-of-type {\n",
       "        vertical-align: middle;\n",
       "    }\n",
       "\n",
       "    .dataframe tbody tr th {\n",
       "        vertical-align: top;\n",
       "    }\n",
       "\n",
       "    .dataframe thead th {\n",
       "        text-align: right;\n",
       "    }\n",
       "</style>\n",
       "<table border=\"1\" class=\"dataframe\">\n",
       "  <thead>\n",
       "    <tr style=\"text-align: right;\">\n",
       "      <th></th>\n",
       "      <th>title</th>\n",
       "      <th>Actors</th>\n",
       "      <th>Directors</th>\n",
       "      <th>Poster</th>\n",
       "      <th>vote_count</th>\n",
       "      <th>vote_average</th>\n",
       "      <th>revenue</th>\n",
       "      <th>overview</th>\n",
       "      <th>id</th>\n",
       "    </tr>\n",
       "  </thead>\n",
       "  <tbody>\n",
       "    <tr>\n",
       "      <th>0</th>\n",
       "      <td>Avatar</td>\n",
       "      <td>Sam Worthington | Zoe Saldana | Sigourney Weav...</td>\n",
       "      <td>James Cameron</td>\n",
       "      <td>https://images-na.ssl-images-amazon.com/images...</td>\n",
       "      <td>12114.0</td>\n",
       "      <td>7.2</td>\n",
       "      <td>2787965087</td>\n",
       "      <td>In the 22nd century, a paraplegic Marine is di...</td>\n",
       "      <td>0</td>\n",
       "    </tr>\n",
       "    <tr>\n",
       "      <th>1</th>\n",
       "      <td>Star Wars: The Force Awakens</td>\n",
       "      <td>NaN</td>\n",
       "      <td>NaN</td>\n",
       "      <td>https://images-na.ssl-images-amazon.com/images...</td>\n",
       "      <td>7993.0</td>\n",
       "      <td>7.5</td>\n",
       "      <td>2068223624</td>\n",
       "      <td>Thirty years after defeating the Galactic Empi...</td>\n",
       "      <td>1</td>\n",
       "    </tr>\n",
       "    <tr>\n",
       "      <th>2</th>\n",
       "      <td>Titanic</td>\n",
       "      <td>Kate Winslet | Leonardo DiCaprio | Frances Fis...</td>\n",
       "      <td>James Cameron</td>\n",
       "      <td>https://images-na.ssl-images-amazon.com/images...</td>\n",
       "      <td>7770.0</td>\n",
       "      <td>7.5</td>\n",
       "      <td>1845034188</td>\n",
       "      <td>84 years later, a 101-year-old woman named Ros...</td>\n",
       "      <td>2</td>\n",
       "    </tr>\n",
       "    <tr>\n",
       "      <th>3</th>\n",
       "      <td>The Avengers</td>\n",
       "      <td>NaN</td>\n",
       "      <td>NaN</td>\n",
       "      <td>https://images-na.ssl-images-amazon.com/images...</td>\n",
       "      <td>12000.0</td>\n",
       "      <td>7.4</td>\n",
       "      <td>1519557910</td>\n",
       "      <td>When an unexpected enemy emerges and threatens...</td>\n",
       "      <td>3</td>\n",
       "    </tr>\n",
       "    <tr>\n",
       "      <th>4</th>\n",
       "      <td>Jurassic World</td>\n",
       "      <td>NaN</td>\n",
       "      <td>NaN</td>\n",
       "      <td>https://images-na.ssl-images-amazon.com/images...</td>\n",
       "      <td>8842.0</td>\n",
       "      <td>6.5</td>\n",
       "      <td>1513528810</td>\n",
       "      <td>Twenty-two years after the events of Jurassic ...</td>\n",
       "      <td>4</td>\n",
       "    </tr>\n",
       "  </tbody>\n",
       "</table>\n",
       "</div>"
      ],
      "text/plain": [
       "                          title  \\\n",
       "0                        Avatar   \n",
       "1  Star Wars: The Force Awakens   \n",
       "2                       Titanic   \n",
       "3                  The Avengers   \n",
       "4                Jurassic World   \n",
       "\n",
       "                                              Actors      Directors  \\\n",
       "0  Sam Worthington | Zoe Saldana | Sigourney Weav...  James Cameron   \n",
       "1                                                NaN            NaN   \n",
       "2  Kate Winslet | Leonardo DiCaprio | Frances Fis...  James Cameron   \n",
       "3                                                NaN            NaN   \n",
       "4                                                NaN            NaN   \n",
       "\n",
       "                                              Poster  vote_count  \\\n",
       "0  https://images-na.ssl-images-amazon.com/images...     12114.0   \n",
       "1  https://images-na.ssl-images-amazon.com/images...      7993.0   \n",
       "2  https://images-na.ssl-images-amazon.com/images...      7770.0   \n",
       "3  https://images-na.ssl-images-amazon.com/images...     12000.0   \n",
       "4  https://images-na.ssl-images-amazon.com/images...      8842.0   \n",
       "\n",
       "   vote_average     revenue  \\\n",
       "0           7.2  2787965087   \n",
       "1           7.5  2068223624   \n",
       "2           7.5  1845034188   \n",
       "3           7.4  1519557910   \n",
       "4           6.5  1513528810   \n",
       "\n",
       "                                            overview  id  \n",
       "0  In the 22nd century, a paraplegic Marine is di...   0  \n",
       "1  Thirty years after defeating the Galactic Empi...   1  \n",
       "2  84 years later, a 101-year-old woman named Ros...   2  \n",
       "3  When an unexpected enemy emerges and threatens...   3  \n",
       "4  Twenty-two years after the events of Jurassic ...   4  "
      ]
     },
     "execution_count": 2,
     "metadata": {},
     "output_type": "execute_result"
    }
   ],
   "source": [
    "movie_frame = pd.read_csv('filter_movies.csv')\n",
    "movie_frame.head()"
   ]
  },
  {
   "cell_type": "code",
   "execution_count": 3,
   "metadata": {},
   "outputs": [],
   "source": [
    "def compare(smaller, bigger):\n",
    "    smaller = str(smaller).translate(str.maketrans('', '', string.punctuation+\" \")).lower()\n",
    "    bigger = str(bigger).translate(str.maketrans('', '', string.punctuation+ \" \")).lower()\n",
    "    return smaller in bigger"
   ]
  },
  {
   "cell_type": "code",
   "execution_count": 4,
   "metadata": {},
   "outputs": [
    {
     "data": {
      "text/plain": [
       "['title',\n",
       " 'Actors',\n",
       " 'Directors',\n",
       " 'Poster',\n",
       " 'vote_count',\n",
       " 'vote_average',\n",
       " 'revenue',\n",
       " 'overview',\n",
       " 'id']"
      ]
     },
     "execution_count": 4,
     "metadata": {},
     "output_type": "execute_result"
    }
   ],
   "source": [
    "list(movie_frame)"
   ]
  },
  {
   "cell_type": "code",
   "execution_count": 8,
   "metadata": {},
   "outputs": [
    {
     "data": {
      "text/plain": [
       "15    [The Lord o, 15]\n",
       "39    [The Lord o, 39]\n",
       "51    [The Lord o, 51]\n",
       "dtype: object"
      ]
     },
     "execution_count": 8,
     "metadata": {},
     "output_type": "execute_result"
    }
   ],
   "source": [
    "mask = movie_frame['title'].apply(lambda x: compare('lord', x))\n",
    "movie_frame[mask].apply(lambda x: [x.title[:10], x.id], axis=1)"
   ]
  },
  {
   "cell_type": "code",
   "execution_count": 20,
   "metadata": {},
   "outputs": [],
   "source": [
    "class Movie:\n",
    "    def __init__(self, id, title, actor, director, overview, poster):\n",
    "        self.id = id\n",
    "        self.title = title\n",
    "        self.actor = truncate(actor)\n",
    "        self.director = truncate(director)\n",
    "        self.overview = truncate(overview, 200)\n",
    "        self.poster = poster\n",
    "\n",
    "def set_movie(x):\n",
    "    return Movie(x.id, x.title, x.Actors, x.Directors, x.overview, x.Poster)\n",
    "def truncate(data, n=100):\n",
    "    data = str(data)\n",
    "    return (data[:n] + '..') if len(data) > n+2 else data\n"
   ]
  },
  {
   "cell_type": "code",
   "execution_count": 21,
   "metadata": {},
   "outputs": [
    {
     "data": {
      "text/plain": [
       "4    <__main__.Movie object at 0x7fda8f70fb38>\n",
       "8    <__main__.Movie object at 0x7fda8f70fc18>\n",
       "2    <__main__.Movie object at 0x7fda8f70fc88>\n",
       "7    <__main__.Movie object at 0x7fda8f70fcc0>\n",
       "dtype: object"
      ]
     },
     "execution_count": 21,
     "metadata": {},
     "output_type": "execute_result"
    }
   ],
   "source": [
    "movie_frame.loc[[4,8,2,7]].apply(set_movie, axis=1)"
   ]
  },
  {
   "cell_type": "code",
   "execution_count": 7,
   "metadata": {},
   "outputs": [
    {
     "data": {
      "text/plain": [
       "['https://images-na.ssl-images-amazon.com/images/M/MV5BMTYwOTEwNjAzMl5BMl5BanBnXkFtZTcwODc5MTUwMw@@._V1_UX182_CR0,0,182,268_AL_.jpg',\n",
       " 'https://images-na.ssl-images-amazon.com/images/M/MV5BOTAzODEzNDAzMl5BMl5BanBnXkFtZTgwMDU1MTgzNzE@._V1_UX182_CR0,0,182,268_AL_.jpg',\n",
       " 'https://images-na.ssl-images-amazon.com/images/M/MV5BMDdmZGU3NDQtY2E5My00ZTliLWIzOTUtMTY4ZGI1YjdiNjk3XkEyXkFqcGdeQXVyNTA4NzY1MzY@._V1_UX182_CR0,0,182,268_AL_.jpg',\n",
       " 'https://images-na.ssl-images-amazon.com/images/M/MV5BMTk2NTI1MTU4N15BMl5BanBnXkFtZTcwODg0OTY0Nw@@._V1_UX182_CR0,0,182,268_AL_.jpg',\n",
       " 'https://images-na.ssl-images-amazon.com/images/M/MV5BMTQ5MTE0MTk3Nl5BMl5BanBnXkFtZTgwMjczMzk2NTE@._V1_UX182_CR0,0,182,268_AL_.jpg']"
      ]
     },
     "execution_count": 7,
     "metadata": {},
     "output_type": "execute_result"
    }
   ],
   "source": [
    "list(movie_frame.head().Poster)"
   ]
  },
  {
   "cell_type": "code",
   "execution_count": null,
   "metadata": {},
   "outputs": [],
   "source": []
  }
 ],
 "metadata": {
  "kernelspec": {
   "display_name": "Python 3",
   "language": "python",
   "name": "python3"
  },
  "language_info": {
   "codemirror_mode": {
    "name": "ipython",
    "version": 3
   },
   "file_extension": ".py",
   "mimetype": "text/x-python",
   "name": "python",
   "nbconvert_exporter": "python",
   "pygments_lexer": "ipython3",
   "version": "3.6.10"
  }
 },
 "nbformat": 4,
 "nbformat_minor": 4
}
